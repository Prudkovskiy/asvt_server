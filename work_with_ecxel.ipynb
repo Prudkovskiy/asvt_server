{
 "cells": [
  {
   "cell_type": "code",
   "execution_count": 4,
   "metadata": {},
   "outputs": [],
   "source": [
    "import pandas as pd\n",
    "import xlsxwriter\n",
    "import numpy as np"
   ]
  },
  {
   "cell_type": "code",
   "execution_count": 96,
   "metadata": {},
   "outputs": [
    {
     "ename": "TypeError",
     "evalue": "'set' type is unordered",
     "output_type": "error",
     "traceback": [
      "\u001b[0;31m---------------------------------------------------------------------------\u001b[0m",
      "\u001b[0;31mTypeError\u001b[0m                                 Traceback (most recent call last)",
      "\u001b[0;32m<ipython-input-96-ccd851c736a9>\u001b[0m in \u001b[0;36m<module>\u001b[0;34m()\u001b[0m\n\u001b[1;32m      1\u001b[0m \u001b[0mdf\u001b[0m \u001b[0;34m=\u001b[0m \u001b[0mpd\u001b[0m\u001b[0;34m.\u001b[0m\u001b[0mDataFrame\u001b[0m\u001b[0;34m(\u001b[0m\u001b[0;34m{\u001b[0m\u001b[0;34m'Номер'\u001b[0m\u001b[0;34m:\u001b[0m \u001b[0;34m[\u001b[0m\u001b[0;34m]\u001b[0m\u001b[0;34m,\u001b[0m \u001b[0;34m'Фамилия, инициалы, должность'\u001b[0m\u001b[0;34m:\u001b[0m \u001b[0;34m[\u001b[0m\u001b[0;34m]\u001b[0m\u001b[0;34m}\u001b[0m\u001b[0;34m)\u001b[0m\u001b[0;34m\u001b[0m\u001b[0m\n\u001b[0;32m----> 2\u001b[0;31m \u001b[0mdf\u001b[0m\u001b[0;34m[\u001b[0m\u001b[0;34m'Номер'\u001b[0m\u001b[0;34m]\u001b[0m\u001b[0;34m.\u001b[0m\u001b[0mappend\u001b[0m\u001b[0;34m(\u001b[0m\u001b[0mpd\u001b[0m\u001b[0;34m.\u001b[0m\u001b[0mSeries\u001b[0m\u001b[0;34m(\u001b[0m\u001b[0;34m{\u001b[0m\u001b[0;36m1\u001b[0m\u001b[0;34m}\u001b[0m\u001b[0;34m)\u001b[0m\u001b[0;34m)\u001b[0m\u001b[0;34m\u001b[0m\u001b[0m\n\u001b[0m\u001b[1;32m      3\u001b[0m \u001b[0mdf\u001b[0m\u001b[0;34m[\u001b[0m\u001b[0;34m'Фамилия, инициалы, должность'\u001b[0m\u001b[0;34m]\u001b[0m\u001b[0;34m.\u001b[0m\u001b[0mappend\u001b[0m\u001b[0;34m(\u001b[0m\u001b[0;34m'Инванов И.И., Гендек'\u001b[0m\u001b[0;34m)\u001b[0m\u001b[0;34m\u001b[0m\u001b[0m\n",
      "\u001b[0;32m~/anaconda3/lib/python3.6/site-packages/pandas/core/series.py\u001b[0m in \u001b[0;36m__init__\u001b[0;34m(self, data, index, dtype, name, copy, fastpath)\u001b[0m\n\u001b[1;32m    241\u001b[0m             \u001b[0;32melif\u001b[0m \u001b[0misinstance\u001b[0m\u001b[0;34m(\u001b[0m\u001b[0mdata\u001b[0m\u001b[0;34m,\u001b[0m \u001b[0;34m(\u001b[0m\u001b[0mset\u001b[0m\u001b[0;34m,\u001b[0m \u001b[0mfrozenset\u001b[0m\u001b[0;34m)\u001b[0m\u001b[0;34m)\u001b[0m\u001b[0;34m:\u001b[0m\u001b[0;34m\u001b[0m\u001b[0m\n\u001b[1;32m    242\u001b[0m                 raise TypeError(\"{0!r} type is unordered\"\n\u001b[0;32m--> 243\u001b[0;31m                                 \"\".format(data.__class__.__name__))\n\u001b[0m\u001b[1;32m    244\u001b[0m             \u001b[0;32melse\u001b[0m\u001b[0;34m:\u001b[0m\u001b[0;34m\u001b[0m\u001b[0m\n\u001b[1;32m    245\u001b[0m \u001b[0;34m\u001b[0m\u001b[0m\n",
      "\u001b[0;31mTypeError\u001b[0m: 'set' type is unordered"
     ]
    }
   ],
   "source": [
    "df = pd.DataFrame({'Номер': [], 'Фамилия, инициалы, должность': []})\n",
    "df['Номер'].append(pd.Series({1}))\n",
    "df['Фамилия, инициалы, должность'].append('Инванов И.И., Гендек')"
   ]
  },
  {
   "cell_type": "code",
   "execution_count": null,
   "metadata": {},
   "outputs": [],
   "source": []
  },
  {
   "cell_type": "code",
   "execution_count": null,
   "metadata": {},
   "outputs": [],
   "source": [
    "##############################################################################\n",
    "#\n",
    "# An example of converting a Pandas dataframe to an xlsx file with a chart\n",
    "# using Pandas and XlsxWriter.\n",
    "#\n",
    "# Copyright 2013-2018, John McNamara, jmcnamara@cpan.org\n",
    "#\n",
    "\n",
    "\n",
    "# Create a Pandas dataframe from some data.\n",
    "df = pd.DataFrame({'Номер': [], 'Фамилия, инициалы, должность': []})\n",
    "\n",
    "# Create a Pandas Excel writer using XlsxWriter as the engine.\n",
    "writer = pd.ExcelWriter('asvt.xlsx', engine='xlsxwriter')\n",
    "\n",
    "# Convert the dataframe to an XlsxWriter Excel object.\n",
    "df.to_excel(writer, sheet_name='Sheet1')\n",
    "\n",
    "# Get the xlsxwriter workbook and worksheet objects.\n",
    "workbook  = writer.book\n",
    "worksheet = writer.sheets['Sheet1']\n",
    "\n",
    "# Create a chart object.\n",
    "chart = workbook.add_chart({'type': 'column'})\n",
    "\n",
    "# Configure the series of the chart from the dataframe data.\n",
    "chart.add_series({'values': '=Sheet1!$B$2:$B$8'})\n",
    "\n",
    "# Insert the chart into the worksheet.\n",
    "worksheet.insert_chart('D2', chart)\n",
    "\n",
    "# Close the Pandas Excel writer and output the Excel file.\n",
    "writer.save()"
   ]
  },
  {
   "cell_type": "code",
   "execution_count": 5,
   "metadata": {},
   "outputs": [],
   "source": []
  },
  {
   "cell_type": "code",
   "execution_count": 76,
   "metadata": {},
   "outputs": [],
   "source": []
  },
  {
   "cell_type": "code",
   "execution_count": 237,
   "metadata": {},
   "outputs": [],
   "source": [
    "filename = 'asvt.xlsx'\n",
    "df=pd.ExcelFile(filename)\n",
    "# sheetnames=df.sheet_names"
   ]
  },
  {
   "cell_type": "code",
   "execution_count": 243,
   "metadata": {},
   "outputs": [
    {
     "data": {
      "text/plain": [
       "Index(['Номер сотрудника', 'Фамилия, инициалы', 'Должность', '1 Чт', '2 Пт',\n",
       "       '3 Сб', '4 Вс', '5 Пн', '6 Вт', '7 Ср', '8 Чт', '9 Пт', '10 Сб',\n",
       "       '11 Вс', '12 Пн', '13 Вт', '14 Ср', '15 Чт', '16 Пт', '17 Сб', '18 Вс',\n",
       "       '19 Пн', '20 Вт', '21 Ср', '22 Чт', '23 Пт', '24 Сб', '25 Вс', '26 Пн',\n",
       "       '27 Вт', '28 Ср', '29 Чт', '30 Пт'],\n",
       "      dtype='object')"
      ]
     },
     "execution_count": 243,
     "metadata": {},
     "output_type": "execute_result"
    }
   ],
   "source": [
    "df = pd.read_excel(filename)\n",
    "df.columns"
   ]
  },
  {
   "cell_type": "code",
   "execution_count": 244,
   "metadata": {},
   "outputs": [],
   "source": [
    "def load_file(file_name, sheet_name_list):\n",
    "    '''\n",
    "    load xlsx file into a dictionary indexed by sheet names\n",
    "    :param string file_name:name of file\n",
    "    :param [string] sheet_name_list: name of selected sheets in the xlsx file\n",
    "    :return: {string:DataFrame} raw_data: {name of sheet:pure data retrieved from xlsx\n",
    "    with column and index 0,1,2,...}\n",
    "    '''\n",
    "    print('loading file...')\n",
    "    cut_head = 2\n",
    "    file = pd.ExcelFile(file_name)\n",
    "    raw_data = {}\n",
    "    # iterate over every sheet and retrieve useful data into raw_data\n",
    "    for i in range(len(sheet_name_list)):\n",
    "        print('parsing sheet', sheet_name_list[i])\n",
    "        # parse a sheet from the whole file into a DataFrame with headers cut off\n",
    "        temp = file.parse(sheet_name_list[i]).iloc[cut_head:, :]\n",
    "        # now temp.dtype = object,because the data read in contains string.Here convert it to float\n",
    "        temp = temp.astype(np.float)\n",
    "        # reset index and column with 0,1,2,...,\n",
    "        temp.columns = range(temp.shape[1])\n",
    "        temp.index = range(temp.shape[0])\n",
    "        temp.fillna(0, inplace=True)\n",
    "        raw_data[sheet_name_list[i]] = temp\n",
    "    return raw_data "
   ]
  },
  {
   "cell_type": "code",
   "execution_count": 245,
   "metadata": {},
   "outputs": [
    {
     "name": "stdout",
     "output_type": "stream",
     "text": [
      "loading file...\n",
      "parsing sheet 2018.11\n"
     ]
    }
   ],
   "source": [
    "data = load_file(filename, sheetnames)"
   ]
  },
  {
   "cell_type": "code",
   "execution_count": 90,
   "metadata": {},
   "outputs": [
    {
     "name": "stdout",
     "output_type": "stream",
     "text": [
      "<class 'pandas.core.frame.DataFrame'>\n",
      "<class 'pandas.core.frame.DataFrame'>\n",
      "<class 'pandas.core.frame.DataFrame'>\n"
     ]
    }
   ],
   "source": [
    "writer = pd.ExcelWriter(filename, engine='xlsxwriter')\n",
    "\n",
    "for sheet, df in data.items():\n",
    "    df.to_excel(writer, sheet_name=sheet)\n",
    "\n",
    "writer.save()"
   ]
  },
  {
   "cell_type": "code",
   "execution_count": 229,
   "metadata": {},
   "outputs": [
    {
     "data": {
      "text/plain": [
       "Series([], Name: 1, dtype: float64)"
      ]
     },
     "execution_count": 229,
     "metadata": {},
     "output_type": "execute_result"
    }
   ],
   "source": [
    "data[df.sheet_names[0]][1]"
   ]
  },
  {
   "cell_type": "code",
   "execution_count": 261,
   "metadata": {},
   "outputs": [],
   "source": [
    "\n",
    "##############################################################################\n",
    "#\n",
    "# An example of writing multiple dataframes to worksheets using Pandas and\n",
    "# XlsxWriter.\n",
    "#\n",
    "# Copyright 2013-2018, John McNamara, jmcnamara@cpan.org\n",
    "#\n",
    "\n",
    "import pandas as pd\n",
    "\n",
    "\n",
    "# Create some Pandas dataframes from some data.\n",
    "df1 = pd.DataFrame({'Data': [11, 12, 13, 14]})\n",
    "df2 = pd.DataFrame({'Data': [21, 22, 23, 24]})\n",
    "df3 = pd.DataFrame({'Data': [31, 32, 33, 34]})\n",
    "\n",
    "# Create a Pandas Excel writer using XlsxWriter as the engine.\n",
    "writer = pd.ExcelWriter('pandas_multiple.xlsx', engine='xlsxwriter')\n",
    "\n",
    "# Write each dataframe to a different worksheet.\n",
    "df1.to_excel(writer, sheet_name='Sheet5')\n",
    "df2.to_excel(writer, sheet_name='Sheet6')\n",
    "df3.to_excel(writer, sheet_name='Sheet7')\n",
    "\n",
    "# Close the Pandas Excel writer and output the Excel file.\n",
    "writer.save()"
   ]
  },
  {
   "cell_type": "code",
   "execution_count": 227,
   "metadata": {},
   "outputs": [
    {
     "name": "stdout",
     "output_type": "stream",
     "text": [
      "CPU times: user 4 µs, sys: 0 ns, total: 4 µs\n",
      "Wall time: 9.06 µs\n"
     ]
    },
    {
     "data": {
      "text/plain": [
       "'E'"
      ]
     },
     "execution_count": 227,
     "metadata": {},
     "output_type": "execute_result"
    }
   ],
   "source": [
    "%time alph[4]"
   ]
  },
  {
   "cell_type": "code",
   "execution_count": 146,
   "metadata": {},
   "outputs": [
    {
     "name": "stdout",
     "output_type": "stream",
     "text": [
      "2018.11\n"
     ]
    },
    {
     "data": {
      "text/plain": [
       "29"
      ]
     },
     "execution_count": 146,
     "metadata": {},
     "output_type": "execute_result"
    }
   ],
   "source": [
    "import calendar\n",
    "import datetime\n",
    "\n",
    "print(datetime.datetime.now().strftime(\"%Y.%m\"))\n",
    "calendar.monthrange(2012, 2)[1]"
   ]
  },
  {
   "cell_type": "code",
   "execution_count": 377,
   "metadata": {},
   "outputs": [],
   "source": [
    "# START\n",
    "filename = 'asvt.xlsx'\n",
    "week = {\n",
    "    0: 'Пн',\n",
    "    1: 'Вт',\n",
    "    2: 'Ср',\n",
    "    3: 'Чт',\n",
    "    4: 'Пт',\n",
    "    5: 'Сб',\n",
    "    6: 'Вс'\n",
    "}\n",
    "alph = list('ABCDEFGHIJKLMNOPQRSTUVWXYZ')\n",
    "year_month = sheet_name.split('.')\n",
    "number_of_days = calendar.monthrange(int(year_month[0]), int(year_month[1]))[1]\n",
    "last_column_name = 'A'+alph[(number_of_days+4)%27]\n",
    "\n",
    "## Создаем новый excel файл и новый рабочий лист, где имя - это год и месяц\n",
    "writer = pd.ExcelWriter('asvt.xlsx', engine='xlsxwriter') \n",
    "workbook = writer.book\n",
    "sheet_name = datetime.datetime.now().strftime(\"%Y.%m\")\n",
    "worksheet = workbook.add_worksheet(sheet_name) # worksheet name 2018.11\n",
    "\n",
    "# Add a bold format to use to highlight cells.\n",
    "bold = workbook.add_format({'bold': True})\n",
    "# Widen the first column to make the text clearer.\n",
    "worksheet.set_column('A:D', 25, bold)\n",
    "worksheet.set_column('E:{}'.format(last_column_name), 6)\n",
    "\n",
    "worksheet.write(0, 0, 'Номер сотрудника')\n",
    "worksheet.write(0, 1, 'Фамилия, инициалы')\n",
    "worksheet.write(0, 2, 'Должность')\n",
    "worksheet.write(0, 3, 'На работе')\n",
    "\n",
    "for i in range(number_of_days):\n",
    "    day_of_month = i + 1\n",
    "    day_of_week = week[datetime.datetime.strptime('{}.{}'.format(sheet_name, day_of_month), '%Y.%m.%d').weekday()]\n",
    "    worksheet.write(0, i + 4, '{}|{}'.format(day_of_week, day_of_month))\n",
    "    \n",
    "worksheet.write(0, 4+number_of_days, 'Всего часов')\n",
    "\n",
    "worksheet.write(1, 0, 1)\n",
    "worksheet.write(1, 1, 'Рафиков А.Г.')\n",
    "worksheet.write(1, 2, 'Ведущий инженер')\n",
    "worksheet.write(1, 3, 'Да')\n",
    "# worksheet.conditional_format('A1:B3'.format(last_column_name), {'type': '3_color_scale'})\n",
    "\n",
    "workbook.close()\n",
    "writer.save()"
   ]
  },
  {
   "cell_type": "code",
   "execution_count": 366,
   "metadata": {},
   "outputs": [],
   "source": [
    "name = 'Рафиков А.Г.'\n",
    "df = pd.read_excel('asvt.xlsx', sheet_name='2018.11')\n",
    "s = df[df['Фамилия, инициалы'] == name]\n",
    "len(s)\n",
    "col = list(s.columns)\n",
    "today = datetime.datetime.now().day\n",
    "\n",
    "if not s.get('Фамилия, инициалы'):\n",
    "    s.values\n",
    "    df2 = pd.DataFrame([[1, 2, 3]], columns=list(s.columns))\n",
    "else:\n",
    "# #     df.aggregate\n",
    "#     df.append"
   ]
  },
  {
   "cell_type": "code",
   "execution_count": 353,
   "metadata": {},
   "outputs": [
    {
     "data": {
      "text/plain": [
       "1"
      ]
     },
     "execution_count": 353,
     "metadata": {},
     "output_type": "execute_result"
    }
   ],
   "source": [
    "df = pd.read_excel('asvt.xlsx', sheet_name='2018.11')\n",
    "len(df['Фамилия, инициалы'])"
   ]
  },
  {
   "cell_type": "code",
   "execution_count": 379,
   "metadata": {},
   "outputs": [
    {
     "name": "stdout",
     "output_type": "stream",
     "text": [
      "0\n"
     ]
    }
   ],
   "source": [
    "import xlrd\n",
    "import xlsxwriter\n",
    "\n",
    "# open the file for reading\n",
    "wbRD = xlrd.open_workbook(\"asvt.xlsx\")\n",
    "sheets = wbRD.sheets()\n",
    "\n",
    "# open the same file for writing (just don't write yet)\n",
    "wb = xlsxwriter.Workbook(\"asvt.xlsx\")\n",
    "\n",
    "# run through the sheets and store sheets in workbook\n",
    "# this still doesn't write to the file yet\n",
    "for sheet in sheets[:-1]: # write data from old file\n",
    "    newSheet = wb.add_worksheet(sheet.name)\n",
    "    for row in range(sheet.nrows):\n",
    "        for col in range(sheet.ncols):\n",
    "            newSheet.write(row, col, sheet.cell(row, col).value)\n",
    "\n",
    "# # print(sheets)\n",
    "# prev_sheet_name = sheets[-1:][0].name\n",
    "# print(prev_sheet_name)\n",
    "# df = pd.read_excel(\"asvt.xlsx\", sheet_name=prev_sheet_name)\n",
    "# print(df)\n",
    "# writer = pd.ExcelWriter('asvt.xlsx', engine='xlsxwriter')\n",
    "# df.to_excel(writer, sheet_name=prev_sheet_name)\n",
    "\n",
    "prev_sheet = sheets.pop()\n",
    "print(prev_sheet.ncols)\n",
    "for row in range(prev_sheet.nrows):\n",
    "    for col in range(prev_sheet.ncols):\n",
    "        val = prev_sheet.cell(row,col).value\n",
    "        if val == 'Да':\n",
    "            prev_sheet.ncols\n",
    "#             prev_sheet.ncols\n",
    "\n",
    "# newSheet = wb.add_worksheet('test_sheet_1')\n",
    "\n",
    "# oldSheet = sheets.pop()\n",
    "# for row in range(oldSheet.nrows):\n",
    "#         for col in range(oldSheet.ncols):\n",
    "#             newSheet.write(row, col, oldSheet.cell(row, col).value)\n",
    "            \n",
    "# for row in range(10, 20): # write NEW data\n",
    "#     for col in range(20):\n",
    "#         newSheet.write(row, col, \"test ({}, {})\".format(row, col))\n",
    "# wb.close() # THIS writes"
   ]
  },
  {
   "cell_type": "code",
   "execution_count": 328,
   "metadata": {},
   "outputs": [
    {
     "data": {
      "text/html": [
       "<div>\n",
       "<style scoped>\n",
       "    .dataframe tbody tr th:only-of-type {\n",
       "        vertical-align: middle;\n",
       "    }\n",
       "\n",
       "    .dataframe tbody tr th {\n",
       "        vertical-align: top;\n",
       "    }\n",
       "\n",
       "    .dataframe thead th {\n",
       "        text-align: right;\n",
       "    }\n",
       "</style>\n",
       "<table border=\"1\" class=\"dataframe\">\n",
       "  <thead>\n",
       "    <tr style=\"text-align: right;\">\n",
       "      <th></th>\n",
       "      <th>Номер сотрудника</th>\n",
       "      <th>Фамилия, инициалы</th>\n",
       "      <th>Должность</th>\n",
       "      <th>На работе</th>\n",
       "      <th>Чт|1</th>\n",
       "      <th>Пт|2</th>\n",
       "      <th>Сб|3</th>\n",
       "      <th>Вс|4</th>\n",
       "      <th>Пн|5</th>\n",
       "      <th>Вт|6</th>\n",
       "      <th>...</th>\n",
       "      <th>Чт|22</th>\n",
       "      <th>Пт|23</th>\n",
       "      <th>Сб|24</th>\n",
       "      <th>Вс|25</th>\n",
       "      <th>Пн|26</th>\n",
       "      <th>Вт|27</th>\n",
       "      <th>Ср|28</th>\n",
       "      <th>Чт|29</th>\n",
       "      <th>Пт|30</th>\n",
       "      <th>Всего часов</th>\n",
       "    </tr>\n",
       "  </thead>\n",
       "  <tbody>\n",
       "  </tbody>\n",
       "</table>\n",
       "<p>0 rows × 35 columns</p>\n",
       "</div>"
      ],
      "text/plain": [
       "Empty DataFrame\n",
       "Columns: [Номер сотрудника, Фамилия, инициалы, Должность, На работе, Чт|1, Пт|2, Сб|3, Вс|4, Пн|5, Вт|6, Ср|7, Чт|8, Пт|9, Сб|10, Вс|11, Пн|12, Вт|13, Ср|14, Чт|15, Пт|16, Сб|17, Вс|18, Пн|19, Вт|20, Ср|21, Чт|22, Пт|23, Сб|24, Вс|25, Пн|26, Вт|27, Ср|28, Чт|29, Пт|30, Всего часов]\n",
       "Index: []\n",
       "\n",
       "[0 rows x 35 columns]"
      ]
     },
     "execution_count": 328,
     "metadata": {},
     "output_type": "execute_result"
    }
   ],
   "source": [
    "df"
   ]
  },
  {
   "cell_type": "code",
   "execution_count": 318,
   "metadata": {},
   "outputs": [],
   "source": [
    "dff = pd.DataFrame([[1, 2, 3]],\n",
    "                   columns=['A', 'B', 'C'])"
   ]
  },
  {
   "cell_type": "code",
   "execution_count": 319,
   "metadata": {},
   "outputs": [
    {
     "data": {
      "text/html": [
       "<div>\n",
       "<style scoped>\n",
       "    .dataframe tbody tr th:only-of-type {\n",
       "        vertical-align: middle;\n",
       "    }\n",
       "\n",
       "    .dataframe tbody tr th {\n",
       "        vertical-align: top;\n",
       "    }\n",
       "\n",
       "    .dataframe thead th {\n",
       "        text-align: right;\n",
       "    }\n",
       "</style>\n",
       "<table border=\"1\" class=\"dataframe\">\n",
       "  <thead>\n",
       "    <tr style=\"text-align: right;\">\n",
       "      <th></th>\n",
       "      <th>A</th>\n",
       "      <th>B</th>\n",
       "      <th>C</th>\n",
       "    </tr>\n",
       "  </thead>\n",
       "  <tbody>\n",
       "    <tr>\n",
       "      <th>0</th>\n",
       "      <td>1</td>\n",
       "      <td>2</td>\n",
       "      <td>3</td>\n",
       "    </tr>\n",
       "  </tbody>\n",
       "</table>\n",
       "</div>"
      ],
      "text/plain": [
       "   A  B  C\n",
       "0  1  2  3"
      ]
     },
     "execution_count": 319,
     "metadata": {},
     "output_type": "execute_result"
    }
   ],
   "source": [
    "dff"
   ]
  },
  {
   "cell_type": "code",
   "execution_count": 266,
   "metadata": {},
   "outputs": [
    {
     "name": "stdout",
     "output_type": "stream",
     "text": [
      "   Data\n",
      "0    21\n",
      "1    22\n",
      "2    23\n",
      "3    24\n"
     ]
    }
   ],
   "source": [
    "import pandas as pd\n",
    "import io\n",
    "\n",
    "# Create a Pandas dataframe from the data.\n",
    "df = pd.read_excel('pandas_multiple.xlsx', sheet_name='Sheet6')\n",
    "\n",
    "print(df)\n",
    "output = io.BytesIO()\n",
    "\n",
    "# Use the BytesIO object as the filehandle.\n",
    "writer = pd.ExcelWriter(output, engine='xlsxwriter')\n",
    "\n",
    "# Write the data frame to the BytesIO object.\n",
    "df.to_excel(writer, sheet_name='Sheekjkt15')\n",
    "\n",
    "writer.save()\n",
    "xlsx_data = output.getvalue()\n",
    "\n",
    "# Do something with the data..."
   ]
  },
  {
   "cell_type": "code",
   "execution_count": 254,
   "metadata": {},
   "outputs": [],
   "source": [
    "##############################################################################\n",
    "#\n",
    "# An example of converting a Pandas dataframe to an xlsx file with a\n",
    "# conditional formatting using Pandas and XlsxWriter.\n",
    "#\n",
    "# Copyright 2013-2018, John McNamara, jmcnamara@cpan.org\n",
    "#\n",
    "\n",
    "import pandas as pd\n",
    "\n",
    "\n",
    "# Create a Pandas dataframe from some data.\n",
    "df = pd.DataFrame({'Data': [10, 20, 30, 20, 15, 30, 45]})\n",
    "\n",
    "# Create a Pandas Excel writer using XlsxWriter as the engine.\n",
    "writer = pd.ExcelWriter('pandas_conditional.xlsx', engine='xlsxwriter')\n",
    "\n",
    "# Convert the dataframe to an XlsxWriter Excel object.\n",
    "df.to_excel(writer, sheet_name='Sheet1')\n",
    "\n",
    "# Get the xlsxwriter workbook and worksheet objects.\n",
    "workbook  = writer.book\n",
    "worksheet = writer.sheets['Sheet1']\n",
    "\n",
    "# Apply a conditional format to the cell range.\n",
    "worksheet.conditional_format('B2:B8', {'type': '3_color_scale'})\n",
    "\n",
    "# Close the Pandas Excel writer and output the Excel file.\n",
    "writer.save()"
   ]
  }
 ],
 "metadata": {
  "kernelspec": {
   "display_name": "Python 3",
   "language": "python",
   "name": "python3"
  },
  "language_info": {
   "codemirror_mode": {
    "name": "ipython",
    "version": 3
   },
   "file_extension": ".py",
   "mimetype": "text/x-python",
   "name": "python",
   "nbconvert_exporter": "python",
   "pygments_lexer": "ipython3",
   "version": "3.6.4"
  }
 },
 "nbformat": 4,
 "nbformat_minor": 2
}
